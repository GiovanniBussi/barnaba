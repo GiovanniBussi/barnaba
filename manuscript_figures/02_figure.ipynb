{
 "cells": [
  {
   "cell_type": "markdown",
   "metadata": {},
   "source": [
    "# Figure 2 #\n",
    "\n",
    "This notebook shows how to extract the transition pathways from the MD trajectory, thereby allowing to understand what is the nature and order of events leading to folding. In particular, we here study the formation of the Watson-Crick base-pairs in the stem and of the Sugar-Watson interaction, characterized by the G9$\\chi$ angle in the unusual syn conformation. \n",
    "\n",
    "First, we identify transition paths (TP) from folded to unfolded (and vice-versa) as described in \"How Fast-Folding Proteins Fold, Science, 2011\". In brief, we consider folding/unfolding transitions only when the system transitions fully between unfolded (eRMSD > 1.9) and folded (eRMSD < 0.6) substates. In order to define transition paths, we analyze the trajectory forward in time, and assign folded/unfolded states depending on the last state visited. If, as an example, the trajectory starts from folded (eRMSD < 0.6), all the frames will be considered as folded until the unfolded state (eRMSD > 1.9) is visited.  We then analyze the trajectory backwards in time. Frames that are assigned to one state (e.g., unfolded) in the forward direction and a different state (e.g., folded) in the reverse direction\n",
    "belong to the transition path connecting the two states.\n"
   ]
  },
  {
   "cell_type": "code",
   "execution_count": 2,
   "metadata": {},
   "outputs": [
    {
     "name": "stdout",
     "output_type": "stream",
     "text": [
      "# reading pickle ermsd.p  shape  (20000,)\n",
      "####\n",
      "# Unfolding trajectory: number of frames 719 \n",
      "# Folding trajectory: number of frames 279 \n",
      "# Unfolding trajectory: number of frames 169 \n",
      "# Folding trajectory: number of frames 1225 \n",
      "# Unfolding trajectory: number of frames 164 \n",
      "# Folding trajectory: number of frames 34 \n",
      "# Unfolding trajectory: number of frames 294 \n",
      "# Folding trajectory: number of frames 1069 \n",
      "#################\n",
      "# I have found 8 folding/unfolding transitions \n"
     ]
    }
   ],
   "source": [
    "import pickle\n",
    "import numpy as np\n",
    "# read ermsd from pickle\n",
    "fname = \"ermsd.p\"\n",
    "print \"# reading pickle %s\" % fname,\n",
    "ermsd = pickle.load(open(fname, \"r\"))\n",
    "print \" shape \", ermsd.shape\n",
    "print \"####\"\n",
    "# define thresholds for folded and unfolded states, in eRMSD values. \n",
    "thr_u = 1.9\n",
    "thr_f = 0.6\n",
    "\n",
    "ll = ermsd.shape[0]\n",
    "\n",
    "# make assignments of folded/unfolded. \n",
    "# Initial values are set as -1 (unininitialized).\n",
    "# If the first/last eRMSD is between the two cutoffs, \n",
    "# the state cannot be assigned\n",
    "forward = -np.ones(ll)\n",
    "backward = -np.ones(ll)\n",
    "folded_idx = []\n",
    "unfolded_idx = []\n",
    "# loop over the trajectory\n",
    "for j in range(ll):\n",
    "    # fill forward. fw is < 0 if eRMSD <thr_f and fw > 1 if eRMSD > thr_u \n",
    "    fw = (ermsd[j]-thr_f)/(thr_u-thr_f)\n",
    "    if(fw>=1):\n",
    "        forward[j] = 1\n",
    "        unfolded_idx.append(j)\n",
    "    elif(fw<=0):\n",
    "        forward[j] = 0\n",
    "        folded_idx.append(j)\n",
    "    else:\n",
    "        forward[j] = forward[j-1]\n",
    "        \n",
    "    # fill backwards\n",
    "    k = ll-j-1\n",
    "    bw = (ermsd[k]-thr_f)/(thr_u-thr_f)\n",
    "    if(bw>=1):\n",
    "        backward[j] = 1\n",
    "    elif(bw<=0):\n",
    "        backward[j] = 0\n",
    "    else:\n",
    "        backward[j] = backward[j-1]\n",
    "\n",
    "# reverse list \n",
    "backward = backward[::-1]\n",
    "\n",
    "# create list of lists with indexes identifying \n",
    "# transition paths. \n",
    "tps = []\n",
    "tmp = []\n",
    "for j in range(ll):\n",
    "    if(forward[j]+backward[j]==1):\n",
    "        tmp.append(j)\n",
    "    else:\n",
    "        if(len(tmp)!=0):\n",
    "            tps.append(tmp)            \n",
    "            tmp = []\n",
    "if(len(tmp)!=0): tps.append(tmp)\n",
    "    \n",
    "# establish whether is folding or unfolding.\n",
    "# print info and check that the state before/after the TP\n",
    "# is unfolded or folded. \n",
    "\n",
    "for el in tps:\n",
    "    if(el[0] != 0):\n",
    "        if(ermsd[el[0]-1] >= thr_u):\n",
    "            assert(ermsd[el[-1]+1]<= thr_f)\n",
    "            print \"# Folding trajectory: number of frames %d \" % len(el)\n",
    "        if(ermsd[el[0]-1] <= thr_f):\n",
    "            assert(ermsd[el[-1]+1]>= thr_u)\n",
    "            print \"# Unfolding trajectory: number of frames %d \" % len(el)\n",
    "print \"#################\"\n",
    "print \"# I have found %d folding/unfolding transitions \" % len(tps)\n"
   ]
  },
  {
   "cell_type": "markdown",
   "metadata": {},
   "source": [
    "Now we monitor base-pair formation and the $\\chi$ angle in G9 during folding and unfolding pathways. We read these information from pickle files. The array *angles* has dimensions *(n,m,7)*, where *n=20000* is the number of frames, *m=14* is the number of nucleotides and the third index runs over the seven torsion angles ($\\alpha,\\beta,\\gamma,\\delta,\\epsilon,\\zeta,\\chi$)\n"
   ]
  },
  {
   "cell_type": "code",
   "execution_count": 3,
   "metadata": {},
   "outputs": [
    {
     "name": "stdout",
     "output_type": "stream",
     "text": [
      "# reading pickle angles.p  - shape (20000, 14, 7)\n",
      "# reading pickle pairs.p  - shape  20000\n"
     ]
    }
   ],
   "source": [
    "# read angles pickle\n",
    "fname = \"angles.p\"\n",
    "print \"# reading pickle %s\" % fname,\n",
    "angles,res = pickle.load(open(fname, \"r\"))\n",
    "print \" - shape\", angles.shape\n",
    "\n",
    "# Read annotation pickle\n",
    "fname = \"pairs.p\"\n",
    "print \"# reading pickle %s\" % fname, \n",
    "pairings,res = pickle.load(open(fname, \"r\"))\n",
    "print \" - shape \", len(pairings)"
   ]
  },
  {
   "cell_type": "markdown",
   "metadata": {},
   "source": [
    "We now define a function that reads the list of base-pairs. This  function will be used later for plotting, and can be used to count the number of native base-pair interaction, as shown below. "
   ]
  },
  {
   "cell_type": "code",
   "execution_count": 4,
   "metadata": {},
   "outputs": [
    {
     "name": "stdout",
     "output_type": "stream",
     "text": [
      "Average number of formed WC pairs in folded 5.00\n",
      "Average number of formed WC pairs in unfolded 0.00\n"
     ]
    }
   ],
   "source": [
    "# this function loops over the indexes and read the annotation relative \n",
    "# to base-base interactions in the stem. It returns an array (q,6), \n",
    "# where q is the length of the list idxs. \n",
    "# The value of the entry is defined as follows:\n",
    "# 1.0 if the WC base-pair (or SWt) is formed in the stem\n",
    "# 0.0 if there are no interactions\n",
    "# -1.0 if there is a non-native base pair\n",
    "def count_stem(pairs,idxs):\n",
    "    pairs = {0:13,1:12,2:11,3:10,4:9,5:8}\n",
    "    wcpairs = np.zeros((len(idxs),6))\n",
    "    for j,i in enumerate(idxs):\n",
    "        for p in range(len(pairings[i][0])):\n",
    "            res1 = pairings[i][0][p][0]\n",
    "            res2 = pairings[i][0][p][1]\n",
    "            interaction =  pairings[i][1][p]\n",
    "            if(res1 not in pairs): continue\n",
    "            if(res2 != pairs[res1]): continue\n",
    "            \n",
    "            if(res1==5):\n",
    "                # if is \n",
    "                if(interaction == \"SWt\"):\n",
    "                    wcpairs[j,res1] = 1.0\n",
    "                else:\n",
    "                    wcpairs[j,res1] = -1.0\n",
    "            else:\n",
    "                if(interaction==\"WCc\" or interaction == \"WWc\"):\n",
    "                    wcpairs[j,res1] = 1.0\n",
    "                else:\n",
    "                    wcpairs[j,res1] = -1.0\n",
    "    return wcpairs\n",
    "\n",
    "stem_fold = count_stem(pairings,folded_idx)\n",
    "stem_unfold = count_stem(pairings,unfolded_idx)\n",
    "\n",
    "# sum elements where stem_fold is 1 to count interactions.\n",
    "# The last column refers to the SWt interaction, and it is \n",
    "# not considered when counting Watson-Crick interactions\n",
    "number_wc_fold = np.sum(stem_fold[:,:-1]>0,axis=1)\n",
    "number_wc_unfold = np.sum(stem_unfold[:,:-1]>0,axis=1)\n",
    "\n",
    "print \"Average number of formed WC pairs in folded %4.2f\" % np.average(number_wc_fold)\n",
    "print \"Average number of formed WC pairs in unfolded %4.2f\" % np.average(number_wc_unfold)\n",
    "\n",
    "\n"
   ]
  },
  {
   "cell_type": "markdown",
   "metadata": {},
   "source": [
    "For each frame in the TP, we calculate i) which native base-pairs are formed and ii) the value of the chi angle in G9. The time evolution of these quantities over one TP is plotted below. Formed base pairs are shown in green, absent in gray and non-native base pairs in red. \n",
    " "
   ]
  },
  {
   "cell_type": "code",
   "execution_count": 18,
   "metadata": {},
   "outputs": [],
   "source": [
    "# loop over TPs and plot \n",
    "import seaborn as sns\n",
    "import matplotlib.pyplot as plt\n",
    "from matplotlib.colors import ListedColormap\n",
    "\n",
    "colors  = [\"#980002\",\"#7d7f7c\",\"#0b4008\"]\n",
    "mycm = ListedColormap(sns.color_palette(colors))\n",
    "\n",
    "stem_tp = count_stem(pairings,tps[1])\n",
    "fig, (ax1,ax2) = plt.subplots(2,1,figsize=(3.5,3.4),sharex=True)    \n",
    "# plot heatmap\n",
    "g = sns.heatmap(stem_tp.T,cbar=False,ax=ax1,cmap=mycm,\\\n",
    "                yticklabels=[\"G1-C14\",\"G2-C13\",\"C3-G12\",\"A4-U11\",\"C3-G10\",\"U6-G9\"],\\\n",
    "                lw=0.0,alpha=0.6,rasterized=True)\n",
    "\n",
    "# set nice tick labels\n",
    "g.set_yticklabels(g.get_yticklabels(),rotation=0)\n",
    "ll = np.linspace(0,2500,6)\n",
    "g.set_xticks(ll/9.)\n",
    "g.set_xticklabels([\"%d\" % (x) for x in ll],rotation=0)\n",
    "#g.set_xlabel(\"Time (ns)\")\n",
    "ax1.set_ylim(0,6.0)\n",
    "\n",
    "i=1\n",
    "# overlay value of chi in G9\n",
    "aa = np.copy(angles[tps[i],8,6])\n",
    "# plot in 0-2pi range\n",
    "aa[np.where(aa<0.0)] += 2.*np.pi\n",
    "# convert from rad to deg\n",
    "aa *= (180./np.pi)\n",
    "# plot\n",
    "ax2.plot(np.arange(len(tps[i])),aa,c='k',lw=1.2)\n",
    "# set limits\n",
    "ax2.set_ylim(20,320)\n",
    "ax2.set_ylabel(r\"$\\chi$ G9 (deg)\")\n",
    "ax2.set_yticks([60,120,180,240,300])\n",
    "\n",
    "ax2.set_xticks(ll/9.)\n",
    "ax2.set_xticklabels([\"%d\" % (x) for x in ll],rotation=0)\n",
    "ax2.set_xlabel(\"Time (ns)\")\n",
    "fig.subplots_adjust(left=0.2, bottom=0.13, right=0.95, top=0.97, wspace=0.1, hspace=0.1)\n",
    "#plt.show()\n",
    "    \n",
    "plt.savefig(\"figure_02a.png\",dpi=600)\n",
    "plt.close()\n"
   ]
  },
  {
   "cell_type": "markdown",
   "metadata": {},
   "source": [
    "Finally, we quantify the order of the events in folding by calculating the two following quantities:\n",
    "1. the fraction of formed WC-pairs ($q1$)\n",
    "2. the normalized quantity $q2 = 0.5*(1+cos(\\chi-1.104))$, that has a maximum $q2=1$ when $\\chi=1.014 rad$.\n",
    "\n",
    "We then average $q1,q2$ over the TP, so that quantities that reach a native-like value (i.e. 1) early during folding have a high value and those that form late get a low value. Here, we can see that the Watson-Crick base pairs form early in folding, while the transition of the $\\chi$ angle to syn with the formation of the SWt base-pairs occurs later. "
   ]
  },
  {
   "cell_type": "code",
   "execution_count": 9,
   "metadata": {},
   "outputs": [
    {
     "data": {
      "image/png": "[encoded data removed]",
      "text/plain": [
       "<Figure size 252x252 with 1 Axes>"
      ]
     },
     "metadata": {
      "needs_background": "light"
     },
     "output_type": "display_data"
    }
   ],
   "source": [
    "averages = []\n",
    "for i in range(len(tps)):\n",
    "    \n",
    "    # count the base-pair interaction in stem\n",
    "    stem_tp = count_stem(pairings,tps[i])\n",
    "    \n",
    "    # calculate the fraction of formed WC pairs in stem\n",
    "    q1 = np.sum(stem_tp[:,:-1]>0,axis=1)/5.\n",
    "    # calculate the cosine distance from the syn conformation\n",
    "    q2 = 0.5*(1.+ np.cos(angles[tps[i],8,6]-1.104) )\n",
    "    averages.append([np.average(q1), np.average(q2)])\n",
    "\n",
    "averages = np.array(averages)\n",
    "fig, ax1 = plt.subplots(1,1,figsize=(3.5,3.5))   \n",
    "ax1.scatter(averages[:,0],averages[:,1],c='k')\n",
    "ax1.plot([0,1],[0,1],c='k')\n",
    "ax1.set_aspect(1.)\n",
    "ax1.set_xlabel(\"Watson-Crick pairs\")\n",
    "ax1.set_ylabel(r\"$\\chi$ angle, G9\")\n",
    "plt.show()\n",
    "#plt.savefig(\"figure_02b.png\",dpi=600)\n",
    "#plt.close()\n"
   ]
  },
  {
   "cell_type": "code",
   "execution_count": null,
   "metadata": {},
   "outputs": [],
   "source": []
  }
 ],
 "metadata": {
  "kernelspec": {
   "display_name": "Python [conda env:anaconda]",
   "language": "python",
   "name": "conda-env-anaconda-py"
  },
  "language_info": {
   "codemirror_mode": {
    "name": "ipython",
    "version": 2
   },
   "file_extension": ".py",
   "mimetype": "text/x-python",
   "name": "python",
   "nbconvert_exporter": "python",
   "pygments_lexer": "ipython2",
   "version": "2.7.14"
  }
 },
 "nbformat": 4,
 "nbformat_minor": 2
}
